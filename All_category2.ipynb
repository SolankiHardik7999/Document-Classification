{
 "cells": [
  {
   "cell_type": "markdown",
   "metadata": {},
   "source": [
    "# Document Classification Using Ensemble Model"
   ]
  },
  {
   "cell_type": "code",
   "execution_count": 2,
   "metadata": {},
   "outputs": [],
   "source": [
    "import pandas as pd\n",
    "import numpy as np\n",
    "import re\n",
    "from matplotlib import pyplot as plt\n",
    "from sklearn.preprocessing import LabelEncoder\n",
    "%matplotlib inline\n",
    "from string import punctuation\n",
    "from nltk.corpus import stopwords, wordnet\n",
    "from nltk.stem import PorterStemmer \n",
    "from nltk.tokenize import word_tokenize \n",
    "import seaborn as sns\n",
    "from sklearn.feature_extraction.text import TfidfVectorizer\n",
    "from sklearn.model_selection import GridSearchCV\n",
    "from sklearn.linear_model import LogisticRegression,SGDClassifier\n",
    "from sklearn.ensemble import RandomForestClassifier\n",
    "from sklearn.naive_bayes import MultinomialNB\n",
    "from sklearn.model_selection import cross_val_score"
   ]
  },
  {
   "cell_type": "code",
   "execution_count": 3,
   "metadata": {},
   "outputs": [],
   "source": [
    "import warnings\n",
    "warnings.filterwarnings(\"ignore\")"
   ]
  },
  {
   "cell_type": "code",
   "execution_count": 4,
   "metadata": {},
   "outputs": [],
   "source": [
    "pd.set_option('display.max_rows',None)\n",
    "pd.set_option('display.max_columns',None)"
   ]
  },
  {
   "cell_type": "code",
   "execution_count": 43,
   "metadata": {},
   "outputs": [
    {
     "data": {
      "text/html": [
       "<div>\n",
       "<style scoped>\n",
       "    .dataframe tbody tr th:only-of-type {\n",
       "        vertical-align: middle;\n",
       "    }\n",
       "\n",
       "    .dataframe tbody tr th {\n",
       "        vertical-align: top;\n",
       "    }\n",
       "\n",
       "    .dataframe thead th {\n",
       "        text-align: right;\n",
       "    }\n",
       "</style>\n",
       "<table border=\"1\" class=\"dataframe\">\n",
       "  <thead>\n",
       "    <tr style=\"text-align: right;\">\n",
       "      <th></th>\n",
       "      <th>category</th>\n",
       "      <th>headline</th>\n",
       "      <th>authors</th>\n",
       "      <th>link</th>\n",
       "      <th>short_description</th>\n",
       "      <th>date</th>\n",
       "    </tr>\n",
       "  </thead>\n",
       "  <tbody>\n",
       "    <tr>\n",
       "      <th>0</th>\n",
       "      <td>CRIME</td>\n",
       "      <td>There Were 2 Mass Shootings In Texas Last Week...</td>\n",
       "      <td>Melissa Jeltsen</td>\n",
       "      <td>https://www.huffingtonpost.com/entry/texas-ama...</td>\n",
       "      <td>She left her husband. He killed their children...</td>\n",
       "      <td>2018-05-26</td>\n",
       "    </tr>\n",
       "    <tr>\n",
       "      <th>1</th>\n",
       "      <td>ENTERTAINMENT</td>\n",
       "      <td>Will Smith Joins Diplo And Nicky Jam For The 2...</td>\n",
       "      <td>Andy McDonald</td>\n",
       "      <td>https://www.huffingtonpost.com/entry/will-smit...</td>\n",
       "      <td>Of course it has a song.</td>\n",
       "      <td>2018-05-26</td>\n",
       "    </tr>\n",
       "    <tr>\n",
       "      <th>2</th>\n",
       "      <td>ENTERTAINMENT</td>\n",
       "      <td>Hugh Grant Marries For The First Time At Age 57</td>\n",
       "      <td>Ron Dicker</td>\n",
       "      <td>https://www.huffingtonpost.com/entry/hugh-gran...</td>\n",
       "      <td>The actor and his longtime girlfriend Anna Ebe...</td>\n",
       "      <td>2018-05-26</td>\n",
       "    </tr>\n",
       "    <tr>\n",
       "      <th>3</th>\n",
       "      <td>ENTERTAINMENT</td>\n",
       "      <td>Jim Carrey Blasts 'Castrato' Adam Schiff And D...</td>\n",
       "      <td>Ron Dicker</td>\n",
       "      <td>https://www.huffingtonpost.com/entry/jim-carre...</td>\n",
       "      <td>The actor gives Dems an ass-kicking for not fi...</td>\n",
       "      <td>2018-05-26</td>\n",
       "    </tr>\n",
       "    <tr>\n",
       "      <th>4</th>\n",
       "      <td>ENTERTAINMENT</td>\n",
       "      <td>Julianna Margulies Uses Donald Trump Poop Bags...</td>\n",
       "      <td>Ron Dicker</td>\n",
       "      <td>https://www.huffingtonpost.com/entry/julianna-...</td>\n",
       "      <td>The \"Dietland\" actress said using the bags is ...</td>\n",
       "      <td>2018-05-26</td>\n",
       "    </tr>\n",
       "  </tbody>\n",
       "</table>\n",
       "</div>"
      ],
      "text/plain": [
       "        category                                           headline  \\\n",
       "0          CRIME  There Were 2 Mass Shootings In Texas Last Week...   \n",
       "1  ENTERTAINMENT  Will Smith Joins Diplo And Nicky Jam For The 2...   \n",
       "2  ENTERTAINMENT    Hugh Grant Marries For The First Time At Age 57   \n",
       "3  ENTERTAINMENT  Jim Carrey Blasts 'Castrato' Adam Schiff And D...   \n",
       "4  ENTERTAINMENT  Julianna Margulies Uses Donald Trump Poop Bags...   \n",
       "\n",
       "           authors                                               link  \\\n",
       "0  Melissa Jeltsen  https://www.huffingtonpost.com/entry/texas-ama...   \n",
       "1    Andy McDonald  https://www.huffingtonpost.com/entry/will-smit...   \n",
       "2       Ron Dicker  https://www.huffingtonpost.com/entry/hugh-gran...   \n",
       "3       Ron Dicker  https://www.huffingtonpost.com/entry/jim-carre...   \n",
       "4       Ron Dicker  https://www.huffingtonpost.com/entry/julianna-...   \n",
       "\n",
       "                                   short_description       date  \n",
       "0  She left her husband. He killed their children... 2018-05-26  \n",
       "1                           Of course it has a song. 2018-05-26  \n",
       "2  The actor and his longtime girlfriend Anna Ebe... 2018-05-26  \n",
       "3  The actor gives Dems an ass-kicking for not fi... 2018-05-26  \n",
       "4  The \"Dietland\" actress said using the bags is ... 2018-05-26  "
      ]
     },
     "execution_count": 43,
     "metadata": {},
     "output_type": "execute_result"
    }
   ],
   "source": [
    "df=pd.read_json('News_Category_Dataset.json',lines=True)\n",
    "df.head()"
   ]
  },
  {
   "cell_type": "code",
   "execution_count": 44,
   "metadata": {},
   "outputs": [
    {
     "data": {
      "text/html": [
       "<div>\n",
       "<style scoped>\n",
       "    .dataframe tbody tr th:only-of-type {\n",
       "        vertical-align: middle;\n",
       "    }\n",
       "\n",
       "    .dataframe tbody tr th {\n",
       "        vertical-align: top;\n",
       "    }\n",
       "\n",
       "    .dataframe thead th {\n",
       "        text-align: right;\n",
       "    }\n",
       "</style>\n",
       "<table border=\"1\" class=\"dataframe\">\n",
       "  <thead>\n",
       "    <tr style=\"text-align: right;\">\n",
       "      <th></th>\n",
       "      <th>category</th>\n",
       "      <th>text</th>\n",
       "    </tr>\n",
       "  </thead>\n",
       "  <tbody>\n",
       "    <tr>\n",
       "      <th>0</th>\n",
       "      <td>CRIME</td>\n",
       "      <td>There Were 2 Mass Shootings In Texas Last Week...</td>\n",
       "    </tr>\n",
       "    <tr>\n",
       "      <th>1</th>\n",
       "      <td>ENTERTAINMENT</td>\n",
       "      <td>Will Smith Joins Diplo And Nicky Jam For The 2...</td>\n",
       "    </tr>\n",
       "    <tr>\n",
       "      <th>2</th>\n",
       "      <td>ENTERTAINMENT</td>\n",
       "      <td>Hugh Grant Marries For The First Time At Age 5...</td>\n",
       "    </tr>\n",
       "    <tr>\n",
       "      <th>3</th>\n",
       "      <td>ENTERTAINMENT</td>\n",
       "      <td>Jim Carrey Blasts 'Castrato' Adam Schiff And D...</td>\n",
       "    </tr>\n",
       "    <tr>\n",
       "      <th>4</th>\n",
       "      <td>ENTERTAINMENT</td>\n",
       "      <td>Julianna Margulies Uses Donald Trump Poop Bags...</td>\n",
       "    </tr>\n",
       "  </tbody>\n",
       "</table>\n",
       "</div>"
      ],
      "text/plain": [
       "        category                                               text\n",
       "0          CRIME  There Were 2 Mass Shootings In Texas Last Week...\n",
       "1  ENTERTAINMENT  Will Smith Joins Diplo And Nicky Jam For The 2...\n",
       "2  ENTERTAINMENT  Hugh Grant Marries For The First Time At Age 5...\n",
       "3  ENTERTAINMENT  Jim Carrey Blasts 'Castrato' Adam Schiff And D...\n",
       "4  ENTERTAINMENT  Julianna Margulies Uses Donald Trump Poop Bags..."
      ]
     },
     "execution_count": 44,
     "metadata": {},
     "output_type": "execute_result"
    }
   ],
   "source": [
    "df['text']=df['headline']+df['short_description']\n",
    "lst=['category','text']\n",
    "data=df[lst]\n",
    "data.head()"
   ]
  },
  {
   "cell_type": "code",
   "execution_count": 45,
   "metadata": {},
   "outputs": [],
   "source": [
    "le=LabelEncoder()\n",
    "data['Label']=le.fit_transform(data['category'])"
   ]
  },
  {
   "cell_type": "code",
   "execution_count": 46,
   "metadata": {},
   "outputs": [
    {
     "data": {
      "text/html": [
       "<div>\n",
       "<style scoped>\n",
       "    .dataframe tbody tr th:only-of-type {\n",
       "        vertical-align: middle;\n",
       "    }\n",
       "\n",
       "    .dataframe tbody tr th {\n",
       "        vertical-align: top;\n",
       "    }\n",
       "\n",
       "    .dataframe thead th {\n",
       "        text-align: right;\n",
       "    }\n",
       "</style>\n",
       "<table border=\"1\" class=\"dataframe\">\n",
       "  <thead>\n",
       "    <tr style=\"text-align: right;\">\n",
       "      <th></th>\n",
       "      <th>category</th>\n",
       "      <th>text</th>\n",
       "      <th>Label</th>\n",
       "    </tr>\n",
       "  </thead>\n",
       "  <tbody>\n",
       "    <tr>\n",
       "      <th>0</th>\n",
       "      <td>CRIME</td>\n",
       "      <td>There Were 2 Mass Shootings In Texas Last Week...</td>\n",
       "      <td>6</td>\n",
       "    </tr>\n",
       "    <tr>\n",
       "      <th>1</th>\n",
       "      <td>ENTERTAINMENT</td>\n",
       "      <td>Will Smith Joins Diplo And Nicky Jam For The 2...</td>\n",
       "      <td>10</td>\n",
       "    </tr>\n",
       "    <tr>\n",
       "      <th>2</th>\n",
       "      <td>ENTERTAINMENT</td>\n",
       "      <td>Hugh Grant Marries For The First Time At Age 5...</td>\n",
       "      <td>10</td>\n",
       "    </tr>\n",
       "    <tr>\n",
       "      <th>3</th>\n",
       "      <td>ENTERTAINMENT</td>\n",
       "      <td>Jim Carrey Blasts 'Castrato' Adam Schiff And D...</td>\n",
       "      <td>10</td>\n",
       "    </tr>\n",
       "    <tr>\n",
       "      <th>4</th>\n",
       "      <td>ENTERTAINMENT</td>\n",
       "      <td>Julianna Margulies Uses Donald Trump Poop Bags...</td>\n",
       "      <td>10</td>\n",
       "    </tr>\n",
       "    <tr>\n",
       "      <th>5</th>\n",
       "      <td>ENTERTAINMENT</td>\n",
       "      <td>Morgan Freeman 'Devastated' That Sexual Harass...</td>\n",
       "      <td>10</td>\n",
       "    </tr>\n",
       "    <tr>\n",
       "      <th>6</th>\n",
       "      <td>ENTERTAINMENT</td>\n",
       "      <td>Donald Trump Is Lovin' New McDonald's Jingle I...</td>\n",
       "      <td>10</td>\n",
       "    </tr>\n",
       "    <tr>\n",
       "      <th>7</th>\n",
       "      <td>ENTERTAINMENT</td>\n",
       "      <td>What To Watch On Amazon Prime That’s New This ...</td>\n",
       "      <td>10</td>\n",
       "    </tr>\n",
       "    <tr>\n",
       "      <th>8</th>\n",
       "      <td>ENTERTAINMENT</td>\n",
       "      <td>Mike Myers Reveals He'd 'Like To' Do A Fourth ...</td>\n",
       "      <td>10</td>\n",
       "    </tr>\n",
       "    <tr>\n",
       "      <th>9</th>\n",
       "      <td>ENTERTAINMENT</td>\n",
       "      <td>What To Watch On Hulu That’s New This WeekYou'...</td>\n",
       "      <td>10</td>\n",
       "    </tr>\n",
       "  </tbody>\n",
       "</table>\n",
       "</div>"
      ],
      "text/plain": [
       "        category                                               text  Label\n",
       "0          CRIME  There Were 2 Mass Shootings In Texas Last Week...      6\n",
       "1  ENTERTAINMENT  Will Smith Joins Diplo And Nicky Jam For The 2...     10\n",
       "2  ENTERTAINMENT  Hugh Grant Marries For The First Time At Age 5...     10\n",
       "3  ENTERTAINMENT  Jim Carrey Blasts 'Castrato' Adam Schiff And D...     10\n",
       "4  ENTERTAINMENT  Julianna Margulies Uses Donald Trump Poop Bags...     10\n",
       "5  ENTERTAINMENT  Morgan Freeman 'Devastated' That Sexual Harass...     10\n",
       "6  ENTERTAINMENT  Donald Trump Is Lovin' New McDonald's Jingle I...     10\n",
       "7  ENTERTAINMENT  What To Watch On Amazon Prime That’s New This ...     10\n",
       "8  ENTERTAINMENT  Mike Myers Reveals He'd 'Like To' Do A Fourth ...     10\n",
       "9  ENTERTAINMENT  What To Watch On Hulu That’s New This WeekYou'...     10"
      ]
     },
     "execution_count": 46,
     "metadata": {},
     "output_type": "execute_result"
    }
   ],
   "source": [
    "data.head(10)"
   ]
  },
  {
   "cell_type": "code",
   "execution_count": 9,
   "metadata": {},
   "outputs": [
    {
     "data": {
      "text/plain": [
       "(200853, 3)"
      ]
     },
     "execution_count": 9,
     "metadata": {},
     "output_type": "execute_result"
    }
   ],
   "source": [
    "data.shape"
   ]
  },
  {
   "cell_type": "code",
   "execution_count": 47,
   "metadata": {},
   "outputs": [],
   "source": [
    "data.rename(columns={'text':'news'},inplace=True)"
   ]
  },
  {
   "cell_type": "markdown",
   "metadata": {},
   "source": [
    "# Text Processing"
   ]
  },
  {
   "cell_type": "markdown",
   "metadata": {},
   "source": [
    "## Stopword removal"
   ]
  },
  {
   "cell_type": "code",
   "execution_count": 48,
   "metadata": {},
   "outputs": [],
   "source": [
    "data['news'] = data['news'].apply(lambda x: ' '.join(x.lower() for x in x.split()))"
   ]
  },
  {
   "cell_type": "code",
   "execution_count": 49,
   "metadata": {},
   "outputs": [
    {
     "data": {
      "text/plain": [
       "['!',\n",
       " '\"',\n",
       " '#',\n",
       " '$',\n",
       " '%',\n",
       " '&',\n",
       " \"'\",\n",
       " '(',\n",
       " ')',\n",
       " '*',\n",
       " '+',\n",
       " ',',\n",
       " '-',\n",
       " '.',\n",
       " '/',\n",
       " ':',\n",
       " ';',\n",
       " '<',\n",
       " '=',\n",
       " '>',\n",
       " '?',\n",
       " '@',\n",
       " '[',\n",
       " '\\\\',\n",
       " ']',\n",
       " '^',\n",
       " '_',\n",
       " '`',\n",
       " '{',\n",
       " '|',\n",
       " '}',\n",
       " '~']"
      ]
     },
     "execution_count": 49,
     "metadata": {},
     "output_type": "execute_result"
    }
   ],
   "source": [
    "STOPWORDS = set(stopwords.words('english'))\n",
    "punctuation = list(punctuation)\n",
    "STOPWORDS.update(punctuation)\n",
    "punctuation"
   ]
  },
  {
   "cell_type": "code",
   "execution_count": 50,
   "metadata": {},
   "outputs": [
    {
     "data": {
      "text/html": [
       "<div>\n",
       "<style scoped>\n",
       "    .dataframe tbody tr th:only-of-type {\n",
       "        vertical-align: middle;\n",
       "    }\n",
       "\n",
       "    .dataframe tbody tr th {\n",
       "        vertical-align: top;\n",
       "    }\n",
       "\n",
       "    .dataframe thead th {\n",
       "        text-align: right;\n",
       "    }\n",
       "</style>\n",
       "<table border=\"1\" class=\"dataframe\">\n",
       "  <thead>\n",
       "    <tr style=\"text-align: right;\">\n",
       "      <th></th>\n",
       "      <th>category</th>\n",
       "      <th>news</th>\n",
       "      <th>Label</th>\n",
       "    </tr>\n",
       "  </thead>\n",
       "  <tbody>\n",
       "    <tr>\n",
       "      <th>0</th>\n",
       "      <td>CRIME</td>\n",
       "      <td>there were 2 mass shootings in texas last week...</td>\n",
       "      <td>6</td>\n",
       "    </tr>\n",
       "    <tr>\n",
       "      <th>1</th>\n",
       "      <td>ENTERTAINMENT</td>\n",
       "      <td>will smith joins diplo and nicky jam for the 2...</td>\n",
       "      <td>10</td>\n",
       "    </tr>\n",
       "    <tr>\n",
       "      <th>2</th>\n",
       "      <td>ENTERTAINMENT</td>\n",
       "      <td>hugh grant marries for the first time at age 5...</td>\n",
       "      <td>10</td>\n",
       "    </tr>\n",
       "    <tr>\n",
       "      <th>3</th>\n",
       "      <td>ENTERTAINMENT</td>\n",
       "      <td>jim carrey blasts 'castrato' adam schiff and d...</td>\n",
       "      <td>10</td>\n",
       "    </tr>\n",
       "    <tr>\n",
       "      <th>4</th>\n",
       "      <td>ENTERTAINMENT</td>\n",
       "      <td>julianna margulies uses donald trump poop bags...</td>\n",
       "      <td>10</td>\n",
       "    </tr>\n",
       "  </tbody>\n",
       "</table>\n",
       "</div>"
      ],
      "text/plain": [
       "        category                                               news  Label\n",
       "0          CRIME  there were 2 mass shootings in texas last week...      6\n",
       "1  ENTERTAINMENT  will smith joins diplo and nicky jam for the 2...     10\n",
       "2  ENTERTAINMENT  hugh grant marries for the first time at age 5...     10\n",
       "3  ENTERTAINMENT  jim carrey blasts 'castrato' adam schiff and d...     10\n",
       "4  ENTERTAINMENT  julianna margulies uses donald trump poop bags...     10"
      ]
     },
     "execution_count": 50,
     "metadata": {},
     "output_type": "execute_result"
    }
   ],
   "source": [
    "data.head()"
   ]
  },
  {
   "cell_type": "code",
   "execution_count": 51,
   "metadata": {},
   "outputs": [],
   "source": [
    "data['news_without_stopwords'] = data['news'].apply(lambda x:' '.join([word for word in x.split() if word not in (STOPWORDS)]))"
   ]
  },
  {
   "cell_type": "code",
   "execution_count": 52,
   "metadata": {},
   "outputs": [
    {
     "data": {
      "text/html": [
       "<div>\n",
       "<style scoped>\n",
       "    .dataframe tbody tr th:only-of-type {\n",
       "        vertical-align: middle;\n",
       "    }\n",
       "\n",
       "    .dataframe tbody tr th {\n",
       "        vertical-align: top;\n",
       "    }\n",
       "\n",
       "    .dataframe thead th {\n",
       "        text-align: right;\n",
       "    }\n",
       "</style>\n",
       "<table border=\"1\" class=\"dataframe\">\n",
       "  <thead>\n",
       "    <tr style=\"text-align: right;\">\n",
       "      <th></th>\n",
       "      <th>category</th>\n",
       "      <th>news</th>\n",
       "      <th>Label</th>\n",
       "      <th>news_without_stopwords</th>\n",
       "    </tr>\n",
       "  </thead>\n",
       "  <tbody>\n",
       "    <tr>\n",
       "      <th>0</th>\n",
       "      <td>CRIME</td>\n",
       "      <td>there were 2 mass shootings in texas last week...</td>\n",
       "      <td>6</td>\n",
       "      <td>2 mass shootings texas last week, 1 tvshe left...</td>\n",
       "    </tr>\n",
       "    <tr>\n",
       "      <th>1</th>\n",
       "      <td>ENTERTAINMENT</td>\n",
       "      <td>will smith joins diplo and nicky jam for the 2...</td>\n",
       "      <td>10</td>\n",
       "      <td>smith joins diplo nicky jam 2018 world cup's o...</td>\n",
       "    </tr>\n",
       "    <tr>\n",
       "      <th>2</th>\n",
       "      <td>ENTERTAINMENT</td>\n",
       "      <td>hugh grant marries for the first time at age 5...</td>\n",
       "      <td>10</td>\n",
       "      <td>hugh grant marries first time age 57the actor ...</td>\n",
       "    </tr>\n",
       "    <tr>\n",
       "      <th>3</th>\n",
       "      <td>ENTERTAINMENT</td>\n",
       "      <td>jim carrey blasts 'castrato' adam schiff and d...</td>\n",
       "      <td>10</td>\n",
       "      <td>jim carrey blasts 'castrato' adam schiff democ...</td>\n",
       "    </tr>\n",
       "    <tr>\n",
       "      <th>4</th>\n",
       "      <td>ENTERTAINMENT</td>\n",
       "      <td>julianna margulies uses donald trump poop bags...</td>\n",
       "      <td>10</td>\n",
       "      <td>julianna margulies uses donald trump poop bags...</td>\n",
       "    </tr>\n",
       "  </tbody>\n",
       "</table>\n",
       "</div>"
      ],
      "text/plain": [
       "        category                                               news  Label  \\\n",
       "0          CRIME  there were 2 mass shootings in texas last week...      6   \n",
       "1  ENTERTAINMENT  will smith joins diplo and nicky jam for the 2...     10   \n",
       "2  ENTERTAINMENT  hugh grant marries for the first time at age 5...     10   \n",
       "3  ENTERTAINMENT  jim carrey blasts 'castrato' adam schiff and d...     10   \n",
       "4  ENTERTAINMENT  julianna margulies uses donald trump poop bags...     10   \n",
       "\n",
       "                              news_without_stopwords  \n",
       "0  2 mass shootings texas last week, 1 tvshe left...  \n",
       "1  smith joins diplo nicky jam 2018 world cup's o...  \n",
       "2  hugh grant marries first time age 57the actor ...  \n",
       "3  jim carrey blasts 'castrato' adam schiff democ...  \n",
       "4  julianna margulies uses donald trump poop bags...  "
      ]
     },
     "execution_count": 52,
     "metadata": {},
     "output_type": "execute_result"
    }
   ],
   "source": [
    "data.head()"
   ]
  },
  {
   "cell_type": "code",
   "execution_count": 53,
   "metadata": {},
   "outputs": [
    {
     "data": {
      "text/plain": [
       "93"
      ]
     },
     "execution_count": 53,
     "metadata": {},
     "output_type": "execute_result"
    }
   ],
   "source": [
    "len(data['news_without_stopwords'][0])"
   ]
  },
  {
   "cell_type": "code",
   "execution_count": 54,
   "metadata": {},
   "outputs": [
    {
     "data": {
      "text/plain": [
       "'2 mass shootings texas last week, 1 tvshe left husband. killed children. another day america.'"
      ]
     },
     "execution_count": 54,
     "metadata": {},
     "output_type": "execute_result"
    }
   ],
   "source": [
    "data['news_without_stopwords'][0]"
   ]
  },
  {
   "cell_type": "code",
   "execution_count": 55,
   "metadata": {},
   "outputs": [
    {
     "data": {
      "text/plain": [
       "'there were 2 mass shootings in texas last week, but only 1 on tvshe left her husband. he killed their children. just another day in america.'"
      ]
     },
     "execution_count": 55,
     "metadata": {},
     "output_type": "execute_result"
    }
   ],
   "source": [
    "data['news'][0]"
   ]
  },
  {
   "cell_type": "markdown",
   "metadata": {},
   "source": [
    "## Stemming"
   ]
  },
  {
   "cell_type": "code",
   "execution_count": 40,
   "metadata": {},
   "outputs": [],
   "source": [
    "from nltk.stem import WordNetLemmatizer"
   ]
  },
  {
   "cell_type": "code",
   "execution_count": 41,
   "metadata": {},
   "outputs": [],
   "source": [
    "ps = WordNetLemmatizer()"
   ]
  },
  {
   "cell_type": "code",
   "execution_count": 56,
   "metadata": {},
   "outputs": [],
   "source": [
    "data['news_porter_stemmed'] = data['news_without_stopwords'].apply(lambda x: ' '.join([ps.lemmatize(word) for word in x.split()]))"
   ]
  },
  {
   "cell_type": "code",
   "execution_count": 20,
   "metadata": {},
   "outputs": [],
   "source": [
    "data['news_porter_stemmed'] = data['news_porter_stemmed'].apply(lambda x: ' '.join(x.lower() for x in x.split()))"
   ]
  },
  {
   "cell_type": "code",
   "execution_count": 57,
   "metadata": {},
   "outputs": [
    {
     "data": {
      "text/html": [
       "<div>\n",
       "<style scoped>\n",
       "    .dataframe tbody tr th:only-of-type {\n",
       "        vertical-align: middle;\n",
       "    }\n",
       "\n",
       "    .dataframe tbody tr th {\n",
       "        vertical-align: top;\n",
       "    }\n",
       "\n",
       "    .dataframe thead th {\n",
       "        text-align: right;\n",
       "    }\n",
       "</style>\n",
       "<table border=\"1\" class=\"dataframe\">\n",
       "  <thead>\n",
       "    <tr style=\"text-align: right;\">\n",
       "      <th></th>\n",
       "      <th>category</th>\n",
       "      <th>news</th>\n",
       "      <th>Label</th>\n",
       "      <th>news_without_stopwords</th>\n",
       "      <th>news_porter_stemmed</th>\n",
       "    </tr>\n",
       "  </thead>\n",
       "  <tbody>\n",
       "    <tr>\n",
       "      <th>0</th>\n",
       "      <td>CRIME</td>\n",
       "      <td>there were 2 mass shootings in texas last week...</td>\n",
       "      <td>6</td>\n",
       "      <td>2 mass shootings texas last week, 1 tvshe left...</td>\n",
       "      <td>2 mass shooting texas last week, 1 tvshe left ...</td>\n",
       "    </tr>\n",
       "    <tr>\n",
       "      <th>1</th>\n",
       "      <td>ENTERTAINMENT</td>\n",
       "      <td>will smith joins diplo and nicky jam for the 2...</td>\n",
       "      <td>10</td>\n",
       "      <td>smith joins diplo nicky jam 2018 world cup's o...</td>\n",
       "      <td>smith join diplo nicky jam 2018 world cup's of...</td>\n",
       "    </tr>\n",
       "    <tr>\n",
       "      <th>2</th>\n",
       "      <td>ENTERTAINMENT</td>\n",
       "      <td>hugh grant marries for the first time at age 5...</td>\n",
       "      <td>10</td>\n",
       "      <td>hugh grant marries first time age 57the actor ...</td>\n",
       "      <td>hugh grant marries first time age 57the actor ...</td>\n",
       "    </tr>\n",
       "    <tr>\n",
       "      <th>3</th>\n",
       "      <td>ENTERTAINMENT</td>\n",
       "      <td>jim carrey blasts 'castrato' adam schiff and d...</td>\n",
       "      <td>10</td>\n",
       "      <td>jim carrey blasts 'castrato' adam schiff democ...</td>\n",
       "      <td>jim carrey blast 'castrato' adam schiff democr...</td>\n",
       "    </tr>\n",
       "    <tr>\n",
       "      <th>4</th>\n",
       "      <td>ENTERTAINMENT</td>\n",
       "      <td>julianna margulies uses donald trump poop bags...</td>\n",
       "      <td>10</td>\n",
       "      <td>julianna margulies uses donald trump poop bags...</td>\n",
       "      <td>julianna margulies us donald trump poop bag pi...</td>\n",
       "    </tr>\n",
       "  </tbody>\n",
       "</table>\n",
       "</div>"
      ],
      "text/plain": [
       "        category                                               news  Label  \\\n",
       "0          CRIME  there were 2 mass shootings in texas last week...      6   \n",
       "1  ENTERTAINMENT  will smith joins diplo and nicky jam for the 2...     10   \n",
       "2  ENTERTAINMENT  hugh grant marries for the first time at age 5...     10   \n",
       "3  ENTERTAINMENT  jim carrey blasts 'castrato' adam schiff and d...     10   \n",
       "4  ENTERTAINMENT  julianna margulies uses donald trump poop bags...     10   \n",
       "\n",
       "                              news_without_stopwords  \\\n",
       "0  2 mass shootings texas last week, 1 tvshe left...   \n",
       "1  smith joins diplo nicky jam 2018 world cup's o...   \n",
       "2  hugh grant marries first time age 57the actor ...   \n",
       "3  jim carrey blasts 'castrato' adam schiff democ...   \n",
       "4  julianna margulies uses donald trump poop bags...   \n",
       "\n",
       "                                 news_porter_stemmed  \n",
       "0  2 mass shooting texas last week, 1 tvshe left ...  \n",
       "1  smith join diplo nicky jam 2018 world cup's of...  \n",
       "2  hugh grant marries first time age 57the actor ...  \n",
       "3  jim carrey blast 'castrato' adam schiff democr...  \n",
       "4  julianna margulies us donald trump poop bag pi...  "
      ]
     },
     "execution_count": 57,
     "metadata": {},
     "output_type": "execute_result"
    }
   ],
   "source": [
    "data.head()"
   ]
  },
  {
   "cell_type": "markdown",
   "metadata": {},
   "source": [
    "# remove the punctuation"
   ]
  },
  {
   "cell_type": "code",
   "execution_count": 58,
   "metadata": {},
   "outputs": [],
   "source": [
    "REMOVE_SPECIAL_CHARACTER = re.compile('[/(){}\\[\\]\\|@,;]')\n",
    "BAD_SYMBOLS = re.compile('[^0-9a-z #+_]')\n",
    "data['news_porter_stemmed'] = data['news_porter_stemmed'].str.replace(REMOVE_SPECIAL_CHARACTER,'')\n",
    "data['news_porter_stemmed'] = data['news_porter_stemmed'].str.replace(BAD_SYMBOLS,'')"
   ]
  },
  {
   "cell_type": "code",
   "execution_count": 59,
   "metadata": {},
   "outputs": [
    {
     "data": {
      "text/html": [
       "<div>\n",
       "<style scoped>\n",
       "    .dataframe tbody tr th:only-of-type {\n",
       "        vertical-align: middle;\n",
       "    }\n",
       "\n",
       "    .dataframe tbody tr th {\n",
       "        vertical-align: top;\n",
       "    }\n",
       "\n",
       "    .dataframe thead th {\n",
       "        text-align: right;\n",
       "    }\n",
       "</style>\n",
       "<table border=\"1\" class=\"dataframe\">\n",
       "  <thead>\n",
       "    <tr style=\"text-align: right;\">\n",
       "      <th></th>\n",
       "      <th>category</th>\n",
       "      <th>news</th>\n",
       "      <th>Label</th>\n",
       "      <th>news_without_stopwords</th>\n",
       "      <th>news_porter_stemmed</th>\n",
       "    </tr>\n",
       "  </thead>\n",
       "  <tbody>\n",
       "    <tr>\n",
       "      <th>0</th>\n",
       "      <td>CRIME</td>\n",
       "      <td>there were 2 mass shootings in texas last week...</td>\n",
       "      <td>6</td>\n",
       "      <td>2 mass shootings texas last week, 1 tvshe left...</td>\n",
       "      <td>2 mass shooting texas last week 1 tvshe left h...</td>\n",
       "    </tr>\n",
       "    <tr>\n",
       "      <th>1</th>\n",
       "      <td>ENTERTAINMENT</td>\n",
       "      <td>will smith joins diplo and nicky jam for the 2...</td>\n",
       "      <td>10</td>\n",
       "      <td>smith joins diplo nicky jam 2018 world cup's o...</td>\n",
       "      <td>smith join diplo nicky jam 2018 world cups off...</td>\n",
       "    </tr>\n",
       "    <tr>\n",
       "      <th>2</th>\n",
       "      <td>ENTERTAINMENT</td>\n",
       "      <td>hugh grant marries for the first time at age 5...</td>\n",
       "      <td>10</td>\n",
       "      <td>hugh grant marries first time age 57the actor ...</td>\n",
       "      <td>hugh grant marries first time age 57the actor ...</td>\n",
       "    </tr>\n",
       "    <tr>\n",
       "      <th>3</th>\n",
       "      <td>ENTERTAINMENT</td>\n",
       "      <td>jim carrey blasts 'castrato' adam schiff and d...</td>\n",
       "      <td>10</td>\n",
       "      <td>jim carrey blasts 'castrato' adam schiff democ...</td>\n",
       "      <td>jim carrey blast castrato adam schiff democrat...</td>\n",
       "    </tr>\n",
       "    <tr>\n",
       "      <th>4</th>\n",
       "      <td>ENTERTAINMENT</td>\n",
       "      <td>julianna margulies uses donald trump poop bags...</td>\n",
       "      <td>10</td>\n",
       "      <td>julianna margulies uses donald trump poop bags...</td>\n",
       "      <td>julianna margulies us donald trump poop bag pi...</td>\n",
       "    </tr>\n",
       "  </tbody>\n",
       "</table>\n",
       "</div>"
      ],
      "text/plain": [
       "        category                                               news  Label  \\\n",
       "0          CRIME  there were 2 mass shootings in texas last week...      6   \n",
       "1  ENTERTAINMENT  will smith joins diplo and nicky jam for the 2...     10   \n",
       "2  ENTERTAINMENT  hugh grant marries for the first time at age 5...     10   \n",
       "3  ENTERTAINMENT  jim carrey blasts 'castrato' adam schiff and d...     10   \n",
       "4  ENTERTAINMENT  julianna margulies uses donald trump poop bags...     10   \n",
       "\n",
       "                              news_without_stopwords  \\\n",
       "0  2 mass shootings texas last week, 1 tvshe left...   \n",
       "1  smith joins diplo nicky jam 2018 world cup's o...   \n",
       "2  hugh grant marries first time age 57the actor ...   \n",
       "3  jim carrey blasts 'castrato' adam schiff democ...   \n",
       "4  julianna margulies uses donald trump poop bags...   \n",
       "\n",
       "                                 news_porter_stemmed  \n",
       "0  2 mass shooting texas last week 1 tvshe left h...  \n",
       "1  smith join diplo nicky jam 2018 world cups off...  \n",
       "2  hugh grant marries first time age 57the actor ...  \n",
       "3  jim carrey blast castrato adam schiff democrat...  \n",
       "4  julianna margulies us donald trump poop bag pi...  "
      ]
     },
     "execution_count": 59,
     "metadata": {},
     "output_type": "execute_result"
    }
   ],
   "source": [
    "data.head()"
   ]
  },
  {
   "cell_type": "code",
   "execution_count": 24,
   "metadata": {},
   "outputs": [
    {
     "data": {
      "text/plain": [
       "3539943"
      ]
     },
     "execution_count": 24,
     "metadata": {},
     "output_type": "execute_result"
    }
   ],
   "source": [
    "data['news_porter_stemmed'].apply(lambda x: len(x.split(' '))).sum()"
   ]
  },
  {
   "cell_type": "markdown",
   "metadata": {},
   "source": [
    "## Low Frequency removal"
   ]
  },
  {
   "cell_type": "code",
   "execution_count": 138,
   "metadata": {},
   "outputs": [],
   "source": [
    "#freq = pd.Series(' '.join(data['news_porter_stemmed']).split()).value_counts()"
   ]
  },
  {
   "cell_type": "code",
   "execution_count": 139,
   "metadata": {},
   "outputs": [],
   "source": [
    "#freq1=freq[freq<=3]"
   ]
  },
  {
   "cell_type": "code",
   "execution_count": 140,
   "metadata": {},
   "outputs": [
    {
     "data": {
      "text/plain": [
       "campsit              3\n",
       "36year               3\n",
       "criticallyacclaim    3\n",
       "gvp                  3\n",
       "oosthuizen           3\n",
       "dtype: int64"
      ]
     },
     "execution_count": 140,
     "metadata": {},
     "output_type": "execute_result"
    }
   ],
   "source": [
    "#freq1.head()"
   ]
  },
  {
   "cell_type": "code",
   "execution_count": null,
   "metadata": {},
   "outputs": [],
   "source": [
    "#freq2= list(freq1.index.values)\n",
    "#freq2"
   ]
  },
  {
   "cell_type": "code",
   "execution_count": null,
   "metadata": {},
   "outputs": [],
   "source": [
    "#data['news_porter_stemmed'] = data['news_porter_stemmed'].apply(lambda x: ' '.join([word for word in x.split() if word not in (freq2)]))"
   ]
  },
  {
   "cell_type": "code",
   "execution_count": 60,
   "metadata": {},
   "outputs": [],
   "source": [
    "data = data[['category', 'Label', 'news_porter_stemmed']]"
   ]
  },
  {
   "cell_type": "code",
   "execution_count": 61,
   "metadata": {},
   "outputs": [
    {
     "data": {
      "text/html": [
       "<div>\n",
       "<style scoped>\n",
       "    .dataframe tbody tr th:only-of-type {\n",
       "        vertical-align: middle;\n",
       "    }\n",
       "\n",
       "    .dataframe tbody tr th {\n",
       "        vertical-align: top;\n",
       "    }\n",
       "\n",
       "    .dataframe thead th {\n",
       "        text-align: right;\n",
       "    }\n",
       "</style>\n",
       "<table border=\"1\" class=\"dataframe\">\n",
       "  <thead>\n",
       "    <tr style=\"text-align: right;\">\n",
       "      <th></th>\n",
       "      <th>category</th>\n",
       "      <th>Label</th>\n",
       "      <th>news_porter_stemmed</th>\n",
       "    </tr>\n",
       "  </thead>\n",
       "  <tbody>\n",
       "    <tr>\n",
       "      <th>0</th>\n",
       "      <td>CRIME</td>\n",
       "      <td>6</td>\n",
       "      <td>2 mass shooting texas last week 1 tvshe left h...</td>\n",
       "    </tr>\n",
       "    <tr>\n",
       "      <th>1</th>\n",
       "      <td>ENTERTAINMENT</td>\n",
       "      <td>10</td>\n",
       "      <td>smith join diplo nicky jam 2018 world cups off...</td>\n",
       "    </tr>\n",
       "    <tr>\n",
       "      <th>2</th>\n",
       "      <td>ENTERTAINMENT</td>\n",
       "      <td>10</td>\n",
       "      <td>hugh grant marries first time age 57the actor ...</td>\n",
       "    </tr>\n",
       "    <tr>\n",
       "      <th>3</th>\n",
       "      <td>ENTERTAINMENT</td>\n",
       "      <td>10</td>\n",
       "      <td>jim carrey blast castrato adam schiff democrat...</td>\n",
       "    </tr>\n",
       "    <tr>\n",
       "      <th>4</th>\n",
       "      <td>ENTERTAINMENT</td>\n",
       "      <td>10</td>\n",
       "      <td>julianna margulies us donald trump poop bag pi...</td>\n",
       "    </tr>\n",
       "  </tbody>\n",
       "</table>\n",
       "</div>"
      ],
      "text/plain": [
       "        category  Label                                news_porter_stemmed\n",
       "0          CRIME      6  2 mass shooting texas last week 1 tvshe left h...\n",
       "1  ENTERTAINMENT     10  smith join diplo nicky jam 2018 world cups off...\n",
       "2  ENTERTAINMENT     10  hugh grant marries first time age 57the actor ...\n",
       "3  ENTERTAINMENT     10  jim carrey blast castrato adam schiff democrat...\n",
       "4  ENTERTAINMENT     10  julianna margulies us donald trump poop bag pi..."
      ]
     },
     "execution_count": 61,
     "metadata": {},
     "output_type": "execute_result"
    }
   ],
   "source": [
    "data.head()"
   ]
  },
  {
   "cell_type": "markdown",
   "metadata": {},
   "source": [
    "## TF-Idf(Vectorizer)"
   ]
  },
  {
   "cell_type": "code",
   "execution_count": 62,
   "metadata": {},
   "outputs": [
    {
     "data": {
      "text/plain": [
       "(200853, 94085)"
      ]
     },
     "execution_count": 62,
     "metadata": {},
     "output_type": "execute_result"
    }
   ],
   "source": [
    "tfidf = TfidfVectorizer(sublinear_tf=True, min_df=5, norm='l2', encoding='latin-1', ngram_range=(1, 2))\n",
    "features = tfidf.fit_transform(data['news_porter_stemmed'])\n",
    "labels = data.Label\n",
    "features.shape"
   ]
  },
  {
   "cell_type": "code",
   "execution_count": 63,
   "metadata": {},
   "outputs": [],
   "source": [
    "category_id_df = data[['category', 'Label']].drop_duplicates().sort_values('Label')\n",
    "category_to_id = dict(category_id_df.values)\n",
    "id_to_category = dict(category_id_df[['Label', 'category']].values)"
   ]
  },
  {
   "cell_type": "code",
   "execution_count": 64,
   "metadata": {},
   "outputs": [
    {
     "data": {
      "text/plain": [
       "POLITICS          32739\n",
       "WELLNESS          17827\n",
       "ENTERTAINMENT     16058\n",
       "TRAVEL             9887\n",
       "STYLE & BEAUTY     9649\n",
       "PARENTING          8677\n",
       "HEALTHY LIVING     6694\n",
       "QUEER VOICES       6314\n",
       "FOOD & DRINK       6226\n",
       "BUSINESS           5937\n",
       "COMEDY             5175\n",
       "SPORTS             4884\n",
       "BLACK VOICES       4528\n",
       "HOME & LIVING      4195\n",
       "PARENTS            3955\n",
       "THE WORLDPOST      3664\n",
       "WEDDINGS           3651\n",
       "WOMEN              3490\n",
       "IMPACT             3459\n",
       "DIVORCE            3426\n",
       "CRIME              3405\n",
       "MEDIA              2815\n",
       "WEIRD NEWS         2670\n",
       "GREEN              2622\n",
       "WORLDPOST          2579\n",
       "RELIGION           2556\n",
       "STYLE              2254\n",
       "SCIENCE            2178\n",
       "WORLD NEWS         2177\n",
       "TASTE              2096\n",
       "TECH               2082\n",
       "MONEY              1707\n",
       "ARTS               1509\n",
       "FIFTY              1401\n",
       "GOOD NEWS          1398\n",
       "ARTS & CULTURE     1339\n",
       "ENVIRONMENT        1323\n",
       "COLLEGE            1144\n",
       "LATINO VOICES      1129\n",
       "CULTURE & ARTS     1030\n",
       "EDUCATION          1004\n",
       "Name: category, dtype: int64"
      ]
     },
     "execution_count": 64,
     "metadata": {},
     "output_type": "execute_result"
    }
   ],
   "source": [
    "data.category.value_counts()"
   ]
  },
  {
   "cell_type": "code",
   "execution_count": 65,
   "metadata": {},
   "outputs": [
    {
     "data": {
      "image/png": "[encoded data removed]",
      "text/plain": [
       "<Figure size 1440x720 with 1 Axes>"
      ]
     },
     "metadata": {
      "needs_background": "light"
     },
     "output_type": "display_data"
    }
   ],
   "source": [
    "plt.figure(figsize=(20,10))\n",
    "sns.countplot(x=data['category'],data=data)\n",
    "plt.xticks(rotation=90)\n",
    "plt.show()"
   ]
  },
  {
   "cell_type": "code",
   "execution_count": 66,
   "metadata": {},
   "outputs": [
    {
     "name": "stdout",
     "output_type": "stream",
     "text": [
      "# 'ARTS':\n",
      "  . Most correlated unigrams:\n",
      "       . artist\n",
      "       . nighter\n",
      "       . art\n",
      "  . Most correlated bigrams:\n",
      "       . art world\n",
      "       . stage door\n",
      "       . first nighter\n",
      "# 'ARTS & CULTURE':\n",
      "  . Most correlated unigrams:\n",
      "       . book\n",
      "       . art\n",
      "       . artist\n",
      "  . Most correlated bigrams:\n",
      "       . street art\n",
      "       . margaret atwood\n",
      "       . handmaids tale\n",
      "# 'BLACK VOICES':\n",
      "  . Most correlated unigrams:\n",
      "       . trayvon\n",
      "       . racial\n",
      "       . black\n",
      "  . Most correlated bigrams:\n",
      "       . life matter\n",
      "       . black life\n",
      "       . black woman\n",
      "# 'BUSINESS':\n",
      "  . Most correlated unigrams:\n",
      "       . qa\n",
      "       . 247\n",
      "       . business\n",
      "  . Most correlated bigrams:\n",
      "       . business qa\n",
      "       . 247 wall\n",
      "       . woman business\n",
      "# 'COLLEGE':\n",
      "  . Most correlated unigrams:\n",
      "       . fraternity\n",
      "       . campus\n",
      "       . college\n",
      "  . Most correlated bigrams:\n",
      "       . college president\n",
      "       . higher education\n",
      "       . college student\n",
      "# 'COMEDY':\n",
      "  . Most correlated unigrams:\n",
      "       . jimmy\n",
      "       . maher\n",
      "       . colbert\n",
      "  . Most correlated bigrams:\n",
      "       . seth meyers\n",
      "       . bill maher\n",
      "       . stephen colbert\n",
      "# 'CRIME':\n",
      "  . Most correlated unigrams:\n",
      "       . allegedly\n",
      "       . suspect\n",
      "       . police\n",
      "  . Most correlated bigrams:\n",
      "       . fatally shoot\n",
      "       . fatally shot\n",
      "       . police say\n",
      "# 'CULTURE & ARTS':\n",
      "  . Most correlated unigrams:\n",
      "       . canvas\n",
      "       . art\n",
      "       . exhibition\n",
      "  . Most correlated bigrams:\n",
      "       . art culture\n",
      "       . oil canvas\n",
      "       . week art\n",
      "# 'DIVORCE':\n",
      "  . Most correlated unigrams:\n",
      "       . ex\n",
      "       . divorced\n",
      "       . divorce\n",
      "  . Most correlated bigrams:\n",
      "       . blended family\n",
      "       . divorce facebook\n",
      "       . huffpost divorce\n",
      "# 'EDUCATION':\n",
      "  . Most correlated unigrams:\n",
      "       . charter\n",
      "       . teacher\n",
      "       . education\n",
      "  . Most correlated bigrams:\n",
      "       . charter school\n",
      "       . search education\n",
      "       . global search\n",
      "# 'ENTERTAINMENT':\n",
      "  . Most correlated unigrams:\n",
      "       . taylor\n",
      "       . movie\n",
      "       . trailer\n",
      "  . Most correlated bigrams:\n",
      "       . taylor swift\n",
      "       . box office\n",
      "       . game thrones\n",
      "# 'ENVIRONMENT':\n",
      "  . Most correlated unigrams:\n",
      "       . networxs\n",
      "       . weekthis\n",
      "       . animal\n",
      "  . Most correlated bigrams:\n",
      "       . photo week\n",
      "       . extreme weather\n",
      "       . animal photo\n",
      "# 'FIFTY':\n",
      "  . Most correlated unigrams:\n",
      "       . aging\n",
      "       . retirement\n",
      "       . boomer\n",
      "  . Most correlated bigrams:\n",
      "       . 50 older\n",
      "       . empty nest\n",
      "       . woman 50\n",
      "# 'FOOD & DRINK':\n",
      "  . Most correlated unigrams:\n",
      "       . food\n",
      "       . recipes\n",
      "       . recipe\n",
      "  . Most correlated bigrams:\n",
      "       . taste test\n",
      "       . huffpost tastemakers\n",
      "       . recipe day\n",
      "# 'GOOD NEWS':\n",
      "  . Most correlated unigrams:\n",
      "       . bull\n",
      "       . pup\n",
      "       . dog\n",
      "  . Most correlated bigrams:\n",
      "       . pit bull\n",
      "       . todays buddha\n",
      "       . minute blog\n",
      "# 'GREEN':\n",
      "  . Most correlated unigrams:\n",
      "       . environmental\n",
      "       . wildfire\n",
      "       . climate\n",
      "  . Most correlated bigrams:\n",
      "       . green news\n",
      "       . meatless monday\n",
      "       . climate change\n",
      "# 'HEALTHY LIVING':\n",
      "  . Most correlated unigrams:\n",
      "       . quietrevcom\n",
      "       . icymi\n",
      "       . zika\n",
      "  . Most correlated bigrams:\n",
      "       . article first\n",
      "       . appeared quietrevcom\n",
      "       . gps guide\n",
      "# 'HOME & LIVING':\n",
      "  . Most correlated unigrams:\n",
      "       . diy\n",
      "       . craft\n",
      "       . home\n",
      "  . Most correlated bigrams:\n",
      "       . huffpost home\n",
      "       . home twitter\n",
      "       . craft day\n",
      "# 'IMPACT':\n",
      "  . Most correlated unigrams:\n",
      "       . nonprofit\n",
      "       . homelessness\n",
      "       . homeless\n",
      "  . Most correlated bigrams:\n",
      "       . daily giving\n",
      "       . week daily\n",
      "       . homeless people\n",
      "# 'LATINO VOICES':\n",
      "  . Most correlated unigrams:\n",
      "       . latinas\n",
      "       . latina\n",
      "       . latino\n",
      "  . Most correlated bigrams:\n",
      "       . jane virgin\n",
      "       . america ferrera\n",
      "       . gina rodriguez\n",
      "# 'MEDIA':\n",
      "  . Most correlated unigrams:\n",
      "       . news\n",
      "       . journalist\n",
      "       . fox\n",
      "  . Most correlated bigrams:\n",
      "       . bill oreilly\n",
      "       . news host\n",
      "       . fox news\n",
      "# 'MONEY':\n",
      "  . Most correlated unigrams:\n",
      "       . debt\n",
      "       . financial\n",
      "       . credit\n",
      "  . Most correlated bigrams:\n",
      "       . personal finance\n",
      "       . credit score\n",
      "       . credit card\n",
      "# 'PARENTING':\n",
      "  . Most correlated unigrams:\n",
      "       . kid\n",
      "       . child\n",
      "       . parent\n",
      "  . Most correlated bigrams:\n",
      "       . note day\n",
      "       . cute kid\n",
      "       . kid note\n",
      "# 'PARENTS':\n",
      "  . Most correlated unigrams:\n",
      "       . kid\n",
      "       . parent\n",
      "       . mom\n",
      "  . Most correlated bigrams:\n",
      "       . funniest parenting\n",
      "       . parent week\n",
      "       . tweet parent\n",
      "# 'POLITICS':\n",
      "  . Most correlated unigrams:\n",
      "       . gop\n",
      "       . republican\n",
      "       . trump\n",
      "  . Most correlated bigrams:\n",
      "       . bernie sander\n",
      "       . hillary clinton\n",
      "       . donald trump\n",
      "# 'QUEER VOICES':\n",
      "  . Most correlated unigrams:\n",
      "       . lgbt\n",
      "       . queer\n",
      "       . gay\n",
      "  . Most correlated bigrams:\n",
      "       . marriage equality\n",
      "       . gay men\n",
      "       . drag race\n",
      "# 'RELIGION':\n",
      "  . Most correlated unigrams:\n",
      "       . church\n",
      "       . francis\n",
      "       . pope\n",
      "  . Most correlated bigrams:\n",
      "       . help maintaining\n",
      "       . pope francis\n",
      "       . daily meditation\n",
      "# 'SCIENCE':\n",
      "  . Most correlated unigrams:\n",
      "       . astronomer\n",
      "       . scientist\n",
      "       . nasa\n",
      "  . Most correlated bigrams:\n",
      "       . meteor shower\n",
      "       . black hole\n",
      "       . space station\n",
      "# 'SPORTS':\n",
      "  . Most correlated unigrams:\n",
      "       . player\n",
      "       . nba\n",
      "       . nfl\n",
      "  . Most correlated bigrams:\n",
      "       . nfl player\n",
      "       . lebron james\n",
      "       . world cup\n",
      "# 'STYLE':\n",
      "  . Most correlated unigrams:\n",
      "       . kendall\n",
      "       . makeup\n",
      "       . fashion\n",
      "  . Most correlated bigrams:\n",
      "       . kendall jenner\n",
      "       . princess charlotte\n",
      "       . best beauty\n",
      "# 'STYLE & BEAUTY':\n",
      "  . Most correlated unigrams:\n",
      "       . tumblr\n",
      "       . fashion\n",
      "       . style\n",
      "  . Most correlated bigrams:\n",
      "       . facebook tumblr\n",
      "       . huffpost style\n",
      "       . more sure\n",
      "# 'TASTE':\n",
      "  . Most correlated unigrams:\n",
      "       . starbucks\n",
      "       . delicious\n",
      "       . recipe\n",
      "  . Most correlated bigrams:\n",
      "       . sunday meal\n",
      "       . cooking cuff\n",
      "       . meal prep\n",
      "# 'TECH':\n",
      "  . Most correlated unigrams:\n",
      "       . iphone\n",
      "       . google\n",
      "       . apple\n",
      "  . Most correlated bigrams:\n",
      "       . see popular\n",
      "       . top youtube\n",
      "       . youtube video\n",
      "# 'THE WORLDPOST':\n",
      "  . Most correlated unigrams:\n",
      "       . refugee\n",
      "       . syrian\n",
      "       . aleppo\n",
      "  . Most correlated bigrams:\n",
      "       . militant group\n",
      "       . kill least\n",
      "       . islamic state\n",
      "# 'TRAVEL':\n",
      "  . Most correlated unigrams:\n",
      "       . traveler\n",
      "       . hotel\n",
      "       . travel\n",
      "  . Most correlated bigrams:\n",
      "       . looney front\n",
      "       . weekly travel\n",
      "       . travel zen\n",
      "# 'WEDDINGS':\n",
      "  . Most correlated unigrams:\n",
      "       . weddings\n",
      "       . bride\n",
      "       . wedding\n",
      "  . Most correlated bigrams:\n",
      "       . twitter pinterest\n",
      "       . wedding facebook\n",
      "       . huffpost wedding\n",
      "# 'WEIRD NEWS':\n",
      "  . Most correlated unigrams:\n",
      "       . cat\n",
      "       . ufo\n",
      "       . fark\n",
      "  . Most correlated bigrams:\n",
      "       . take fark\n",
      "       . fark weird\n",
      "       . weird news\n",
      "# 'WELLNESS':\n",
      "  . Most correlated unigrams:\n",
      "       . sleep\n",
      "       . weight\n",
      "       . study\n",
      "  . Most correlated bigrams:\n",
      "       . weight loss\n",
      "       . course gps\n",
      "       . stress strain\n",
      "# 'WOMEN':\n",
      "  . Most correlated unigrams:\n",
      "       . funniest\n",
      "       . feminist\n",
      "       . woman\n",
      "  . Most correlated bigrams:\n",
      "       . 20 funniest\n",
      "       . funniest tweet\n",
      "       . tweet woman\n",
      "# 'WORLD NEWS':\n",
      "  . Most correlated unigrams:\n",
      "       . myanmar\n",
      "       . korea\n",
      "       . rohingya\n",
      "  . Most correlated bigrams:\n",
      "       . south korea\n",
      "       . gulf crisis\n",
      "       . north korea\n",
      "# 'WORLDPOST':\n",
      "  . Most correlated unigrams:\n",
      "       . gaza\n",
      "       . isi\n",
      "       . ukraine\n",
      "  . Most correlated bigrams:\n",
      "       . al qaeda\n",
      "       . boko haram\n",
      "       . week photo\n"
     ]
    }
   ],
   "source": [
    "from sklearn.feature_selection import chi2\n",
    "\n",
    "N = 3\n",
    "for newstype, category_id in sorted(category_to_id.items()):\n",
    "    features_chi2 = chi2(features, labels == category_id)\n",
    "    indices = np.argsort(features_chi2[0])\n",
    "    feature_names = np.array(tfidf.get_feature_names())[indices]\n",
    "    unigrams = [v for v in feature_names if len(v.split(' ')) == 1]\n",
    "    bigrams = [v for v in feature_names if len(v.split(' ')) == 2]\n",
    "    print(\"# '{}':\".format(newstype))\n",
    "    print(\"  . Most correlated unigrams:\\n       . {}\".format('\\n       . '.join(unigrams[-N:])))\n",
    "    print(\"  . Most correlated bigrams:\\n       . {}\".format('\\n       . '.join(bigrams[-N:])))"
   ]
  },
  {
   "cell_type": "markdown",
   "metadata": {},
   "source": [
    "# Ensemble Model"
   ]
  },
  {
   "cell_type": "code",
   "execution_count": 67,
   "metadata": {},
   "outputs": [],
   "source": [
    "models = [\n",
    "    RandomForestClassifier(n_estimators=200, max_depth=3, random_state=0),\n",
    "    MultinomialNB(),\n",
    "    LogisticRegression(random_state=0)\n",
    "]\n",
    "CV = 5\n",
    "cv_df = pd.DataFrame(index=range(CV * len(models)))\n",
    "entries = []\n",
    "for model in models:\n",
    "    model_name = model.__class__.__name__\n",
    "    accuracies = cross_val_score(model,features,labels, scoring='accuracy',cv=CV)\n",
    "    for fold_idx, accuracy in enumerate(accuracies):\n",
    "        entries.append((model_name, fold_idx, accuracy))\n",
    "cv_df = pd.DataFrame(entries, columns=['model_name', 'fold_idx', 'accuracy'])"
   ]
  },
  {
   "cell_type": "code",
   "execution_count": 68,
   "metadata": {},
   "outputs": [
    {
     "data": {
      "text/html": [
       "<div>\n",
       "<style scoped>\n",
       "    .dataframe tbody tr th:only-of-type {\n",
       "        vertical-align: middle;\n",
       "    }\n",
       "\n",
       "    .dataframe tbody tr th {\n",
       "        vertical-align: top;\n",
       "    }\n",
       "\n",
       "    .dataframe thead th {\n",
       "        text-align: right;\n",
       "    }\n",
       "</style>\n",
       "<table border=\"1\" class=\"dataframe\">\n",
       "  <thead>\n",
       "    <tr style=\"text-align: right;\">\n",
       "      <th></th>\n",
       "      <th>model_name</th>\n",
       "      <th>fold_idx</th>\n",
       "      <th>accuracy</th>\n",
       "    </tr>\n",
       "  </thead>\n",
       "  <tbody>\n",
       "    <tr>\n",
       "      <th>10</th>\n",
       "      <td>LogisticRegression</td>\n",
       "      <td>0</td>\n",
       "      <td>0.552239</td>\n",
       "    </tr>\n",
       "    <tr>\n",
       "      <th>11</th>\n",
       "      <td>LogisticRegression</td>\n",
       "      <td>1</td>\n",
       "      <td>0.571183</td>\n",
       "    </tr>\n",
       "    <tr>\n",
       "      <th>12</th>\n",
       "      <td>LogisticRegression</td>\n",
       "      <td>2</td>\n",
       "      <td>0.577382</td>\n",
       "    </tr>\n",
       "    <tr>\n",
       "      <th>13</th>\n",
       "      <td>LogisticRegression</td>\n",
       "      <td>3</td>\n",
       "      <td>0.562186</td>\n",
       "    </tr>\n",
       "    <tr>\n",
       "      <th>14</th>\n",
       "      <td>LogisticRegression</td>\n",
       "      <td>4</td>\n",
       "      <td>0.549539</td>\n",
       "    </tr>\n",
       "    <tr>\n",
       "      <th>5</th>\n",
       "      <td>MultinomialNB</td>\n",
       "      <td>0</td>\n",
       "      <td>0.400363</td>\n",
       "    </tr>\n",
       "    <tr>\n",
       "      <th>6</th>\n",
       "      <td>MultinomialNB</td>\n",
       "      <td>1</td>\n",
       "      <td>0.417515</td>\n",
       "    </tr>\n",
       "    <tr>\n",
       "      <th>7</th>\n",
       "      <td>MultinomialNB</td>\n",
       "      <td>2</td>\n",
       "      <td>0.428269</td>\n",
       "    </tr>\n",
       "    <tr>\n",
       "      <th>8</th>\n",
       "      <td>MultinomialNB</td>\n",
       "      <td>3</td>\n",
       "      <td>0.423799</td>\n",
       "    </tr>\n",
       "    <tr>\n",
       "      <th>9</th>\n",
       "      <td>MultinomialNB</td>\n",
       "      <td>4</td>\n",
       "      <td>0.421334</td>\n",
       "    </tr>\n",
       "    <tr>\n",
       "      <th>0</th>\n",
       "      <td>RandomForestClassifier</td>\n",
       "      <td>0</td>\n",
       "      <td>0.166414</td>\n",
       "    </tr>\n",
       "    <tr>\n",
       "      <th>1</th>\n",
       "      <td>RandomForestClassifier</td>\n",
       "      <td>1</td>\n",
       "      <td>0.168156</td>\n",
       "    </tr>\n",
       "    <tr>\n",
       "      <th>2</th>\n",
       "      <td>RandomForestClassifier</td>\n",
       "      <td>2</td>\n",
       "      <td>0.164671</td>\n",
       "    </tr>\n",
       "    <tr>\n",
       "      <th>3</th>\n",
       "      <td>RandomForestClassifier</td>\n",
       "      <td>3</td>\n",
       "      <td>0.163032</td>\n",
       "    </tr>\n",
       "    <tr>\n",
       "      <th>4</th>\n",
       "      <td>RandomForestClassifier</td>\n",
       "      <td>4</td>\n",
       "      <td>0.163157</td>\n",
       "    </tr>\n",
       "  </tbody>\n",
       "</table>\n",
       "</div>"
      ],
      "text/plain": [
       "                model_name  fold_idx  accuracy\n",
       "10      LogisticRegression         0  0.552239\n",
       "11      LogisticRegression         1  0.571183\n",
       "12      LogisticRegression         2  0.577382\n",
       "13      LogisticRegression         3  0.562186\n",
       "14      LogisticRegression         4  0.549539\n",
       "5            MultinomialNB         0  0.400363\n",
       "6            MultinomialNB         1  0.417515\n",
       "7            MultinomialNB         2  0.428269\n",
       "8            MultinomialNB         3  0.423799\n",
       "9            MultinomialNB         4  0.421334\n",
       "0   RandomForestClassifier         0  0.166414\n",
       "1   RandomForestClassifier         1  0.168156\n",
       "2   RandomForestClassifier         2  0.164671\n",
       "3   RandomForestClassifier         3  0.163032\n",
       "4   RandomForestClassifier         4  0.163157"
      ]
     },
     "execution_count": 68,
     "metadata": {},
     "output_type": "execute_result"
    }
   ],
   "source": [
    "cv_df.sort_values(by='model_name',ascending=True)"
   ]
  },
  {
   "cell_type": "code",
   "execution_count": 69,
   "metadata": {},
   "outputs": [
    {
     "data": {
      "text/plain": [
       "<matplotlib.axes._subplots.AxesSubplot at 0x29e67a29088>"
      ]
     },
     "execution_count": 69,
     "metadata": {},
     "output_type": "execute_result"
    },
    {
     "data": {
      "image/png": "[encoded data removed]",
      "text/plain": [
       "<Figure size 432x288 with 1 Axes>"
      ]
     },
     "metadata": {
      "needs_background": "light"
     },
     "output_type": "display_data"
    }
   ],
   "source": [
    "sns.boxplot(x='model_name', y='accuracy', data=cv_df)\n",
    "sns.stripplot(x='model_name', y='accuracy', data=cv_df,size=8, jitter=True, edgecolor=\"gray\", linewidth=2)"
   ]
  },
  {
   "cell_type": "code",
   "execution_count": 70,
   "metadata": {},
   "outputs": [],
   "source": [
    "from sklearn.model_selection import train_test_split\n",
    "X_train, X_test, y_train, y_test = train_test_split(features, labels, random_state=0)"
   ]
  },
  {
   "cell_type": "code",
   "execution_count": 71,
   "metadata": {},
   "outputs": [
    {
     "data": {
      "text/plain": [
       "LogisticRegression(C=1.0, class_weight=None, dual=False, fit_intercept=True,\n",
       "                   intercept_scaling=1, l1_ratio=None, max_iter=100,\n",
       "                   multi_class='auto', n_jobs=None, penalty='l2',\n",
       "                   random_state=0, solver='lbfgs', tol=0.0001, verbose=0,\n",
       "                   warm_start=False)"
      ]
     },
     "execution_count": 71,
     "metadata": {},
     "output_type": "execute_result"
    }
   ],
   "source": [
    "model = LogisticRegression(random_state=0)\n",
    "model.fit(features,labels)"
   ]
  },
  {
   "cell_type": "code",
   "execution_count": 76,
   "metadata": {},
   "outputs": [
    {
     "name": "stdout",
     "output_type": "stream",
     "text": [
      "\"new movie is very sweet\"\n",
      "  - Predicted as: 'ENTERTAINMENT'\n",
      "\n",
      "\"online education is the new trend among children\"\n",
      "  - Predicted as: 'PARENTING'\n",
      "\n",
      "\"By god's grace he managed to survive\"\n",
      "  - Predicted as: 'RELIGION'\n",
      "\n",
      "\"my cricket team is very good\"\n",
      "  - Predicted as: 'SPORTS'\n",
      "\n",
      "\"Merryweather mercenaries are sent on another mission, as government oversight groups call for new sanctions.\"\n",
      "  - Predicted as: 'POLITICS'\n",
      "\n",
      "\"a new album, tops the charts in all of south-east Asia!\"\n",
      "  - Predicted as: 'ENTERTAINMENT'\n",
      "\n",
      "\"Mobile phones are very smart than humans\"\n",
      "  - Predicted as: 'TECH'\n",
      "\n",
      "\"my college might open next week\"\n",
      "  - Predicted as: 'COLLEGE'\n",
      "\n",
      "\"new dieases are very harmful to our body\"\n",
      "  - Predicted as: 'WELLNESS'\n",
      "\n",
      "\"Mountains are my favourite place to visit\"\n",
      "  - Predicted as: 'TRAVEL'\n",
      "\n",
      "\"Cripco to sell it first fully digital work of art in the test of emerging market\"\n",
      "  - Predicted as: 'ARTS'\n",
      "\n",
      "\"you are very funny\"\n",
      "  - Predicted as: 'COMEDY'\n",
      "\n",
      "\"computers are in trend\"\n",
      "  - Predicted as: 'STYLE'\n",
      "\n"
     ]
    }
   ],
   "source": [
    "texts = [\"new movie is very sweet\",\n",
    "         \"online education is the new trend among children\",\n",
    "         \"By god's grace he managed to survive\",\n",
    "         \"my cricket team is very good\",\n",
    "         \"Merryweather mercenaries are sent on another mission, as government oversight groups call for new sanctions.\",\n",
    "         \"a new album, tops the charts in all of south-east Asia!\",\n",
    "         \"Mobile phones are very smart than humans\",\n",
    "         \"my college might open next week\",\"new dieases are very harmful to our body\",\n",
    "         \"Mountains are my favourite place to visit\",\n",
    "         \"Cripco to sell it first fully digital work of art in the test of emerging market\",\n",
    "         \"you are very funny\",'computers are in trend'\n",
    "         ]\n",
    "text_features = tfidf.transform(texts)\n",
    "predictions = model.predict(text_features)\n",
    "for text, predicted in zip(texts, predictions):\n",
    "    print('\"{}\"'.format(text))\n",
    "    print(\"  - Predicted as: '{}'\".format(id_to_category[predicted]))\n",
    "    print(\"\")"
   ]
  },
  {
   "cell_type": "code",
   "execution_count": 96,
   "metadata": {},
   "outputs": [],
   "source": [
    "import joblib as jb"
   ]
  },
  {
   "cell_type": "code",
   "execution_count": 98,
   "metadata": {},
   "outputs": [
    {
     "data": {
      "text/plain": [
       "['model.pkl']"
      ]
     },
     "execution_count": 98,
     "metadata": {},
     "output_type": "execute_result"
    }
   ],
   "source": [
    "jb.dump(model,'model.pkl')"
   ]
  },
  {
   "cell_type": "code",
   "execution_count": 99,
   "metadata": {},
   "outputs": [],
   "source": [
    "input=jb.load('model.pkl')"
   ]
  }
 ],
 "metadata": {
  "kernelspec": {
   "display_name": "Python 3",
   "language": "python",
   "name": "python3"
  },
  "language_info": {
   "codemirror_mode": {
    "name": "ipython",
    "version": 3
   },
   "file_extension": ".py",
   "mimetype": "text/x-python",
   "name": "python",
   "nbconvert_exporter": "python",
   "pygments_lexer": "ipython3",
   "version": "3.8.3"
  }
 },
 "nbformat": 4,
 "nbformat_minor": 4
}
